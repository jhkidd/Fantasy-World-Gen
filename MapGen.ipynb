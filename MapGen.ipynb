{
 "cells": [
  {
   "cell_type": "code",
   "execution_count": 39,
   "metadata": {},
   "outputs": [],
   "source": [
    "import svgwrite\n",
    "import random\n",
    "import uuid\n",
    "import numpy as np\n",
    "from scipy.spatial import Voronoi, voronoi_plot_2d"
   ]
  },
  {
   "cell_type": "code",
   "execution_count": 43,
   "metadata": {},
   "outputs": [
    {
     "data": {
      "image/png": "[encoded data removed]",
      "text/plain": [
       "<Figure size 432x288 with 1 Axes>"
      ]
     },
     "metadata": {
      "needs_background": "light"
     },
     "output_type": "display_data"
    }
   ],
   "source": [
    "%matplotlib inline\n",
    "points = np.array([[0, 0], [0, 1], [0, 2], [1, 0], [1, 2],\n",
    "                   [2, 0]])\n",
    "vor = Voronoi(points)\n",
    "\n",
    "# \n",
    "import matplotlib.pyplot as plt\n",
    "voronoi_plot_2d(vor)\n",
    "plt.show()"
   ]
  },
  {
   "cell_type": "code",
   "execution_count": null,
   "metadata": {},
   "outputs": [],
   "source": [
    "vor.vertices"
   ]
  },
  {
   "cell_type": "code",
   "execution_count": 37,
   "metadata": {},
   "outputs": [
    {
     "data": {
      "text/plain": [
       "[[-1, 0],\n",
       " [-1, 1],\n",
       " [1, -1, 0],\n",
       " [-1, 2, 3],\n",
       " [-1, 1, 2],\n",
       " [2, 3, 0, 1],\n",
       " [-1, 3],\n",
       " [],\n",
       " [3, -1, 0]]"
      ]
     },
     "execution_count": 37,
     "metadata": {},
     "output_type": "execute_result"
    }
   ],
   "source": [
    "vor.regions"
   ]
  },
  {
   "cell_type": "code",
   "execution_count": 38,
   "metadata": {},
   "outputs": [
    {
     "data": {
      "text/plain": [
       "[[-1, 0],\n",
       " [-1, 0],\n",
       " [-1, 1],\n",
       " [-1, 1],\n",
       " [0, 1],\n",
       " [-1, 2],\n",
       " [2, 3],\n",
       " [-1, 3],\n",
       " [1, 2],\n",
       " [0, 3],\n",
       " [-1, 3]]"
      ]
     },
     "execution_count": 38,
     "metadata": {},
     "output_type": "execute_result"
    }
   ],
   "source": [
    "vor.ridge_vertices"
   ]
  },
  {
   "cell_type": "code",
   "execution_count": 55,
   "metadata": {},
   "outputs": [],
   "source": [
    "class Point():\n",
    "    def __init__(self,x,y):\n",
    "        \"\"\"Represents a fixed coordinate point on the map\"\"\"\n",
    "        self.x = x\n",
    "        self.y = y\n",
    "        \n",
    "class Line():\n",
    "    def __init__(self,start_point,endpoint):\n",
    "        \"\"\"Represents a line defined between two points\"\"\"\n",
    "        self.start = start_point\n",
    "        self.end = end_point\n",
    "\n",
    "class Canvas():\n",
    "    def __init__(self,canvas_size,border_size):\n",
    "        \"\"\"Container for all of the map elements\"\"\"\n",
    "        self.canvas_size = canvas_size\n",
    "        self.border_size = border_size\n",
    "        self.points = {}\n",
    "        self.edges = {}\n",
    "        \n",
    "    def generate_hex(self):\n",
    "        \"\"\"Generates a unique hex id\"\"\"\n",
    "        _ID = uuid.uuid4().hex\n",
    "        if _ID in self.points.keys() or _ID in self.edges.keys():\n",
    "            _ID = self.generate_hex()\n",
    "        return _ID\n",
    "        \n",
    "    def add_point(self,point):\n",
    "        \"\"\"Add a point to the canvas\"\"\"\n",
    "        _ID = self.generate_hex()\n",
    "        self.points[_ID] = point\n",
    "        \n",
    "    def generate_points(self,num_points):\n",
    "        \"\"\"Randomly generates a set number of points within the canvas\"\"\"\n",
    "        for _ in range(num_points):\n",
    "            point_width = random.randint(0,self.canvas_size['width']*100)/100\n",
    "            point_height = random.randint(0,self.canvas_size['height']*100)/100\n",
    "            self.add_point(Point(point_width,point_height))\n",
    "            \n",
    "    def voronoi(self,replace_edges=True):\n",
    "        \"\"\"Uses fortune's algorithm to create voronoi diagram\"\"\"\n",
    "        \n",
    "\n",
    "    def to_svg(self,filename):\n",
    "        dwg = svgwrite.Drawing(filename, profile='full')\n",
    "\n",
    "        shapes = dwg.add(dwg.g(id='shapes', fill='white'))\n",
    "        \n",
    "        # Draw border\n",
    "        shapes.add(dwg.rect(insert=(self.border_size['width']*svgwrite.mm,\n",
    "                                    self.border_size['height']*svgwrite.mm), \n",
    "                            size=(self.canvas_size['width']*svgwrite.mm, \n",
    "                                  self.canvas_size['height']*svgwrite.mm),\n",
    "                            stroke='black'))\n",
    "        \n",
    "        # Draw points\n",
    "        for _ID, point in self.points.items():\n",
    "            shapes.add(dwg.circle(center=((self.border_size['width']+point.x)*svgwrite.mm,\n",
    "                                          (self.border_size['height']+point.y)*svgwrite.mm),\n",
    "                                  stroke='black'))\n",
    "            \n",
    "        for edge in self.edges:\n",
    "            shapes.add(dwg.line(start=((self.border_size['width']+edge.start.x)*svgwrite.mm,\n",
    "                                       (self.border_size['height']+edge.start.y)*svgwrite.mm),\n",
    "                                end=((self.border_size['width']+edge.end.x)*svgwrite.mm,\n",
    "                                     (self.border_size['height']+edge.end.y)*svgwrite.mm),\n",
    "                                stroke='black'))\n",
    "        dwg.save()\n",
    "        \n",
    "\n",
    "canvas_size = {\n",
    "    'height':200,\n",
    "    'width':300\n",
    "}\n",
    "\n",
    "border_size = {\n",
    "    'height':10,\n",
    "    'width':10\n",
    "}\n",
    "\n",
    "num_points = 20\n",
    "\n",
    "canvas = Canvas(canvas_size,border_size)\n",
    "\n",
    "canvas.generate_points(num_points)\n",
    "\n",
    "canvas.voronoi()\n",
    "\n",
    "canvas.to_svg('test.svg')"
   ]
  },
  {
   "cell_type": "code",
   "execution_count": 56,
   "metadata": {},
   "outputs": [
    {
     "data": {
      "image/png": "[encoded data removed]",
      "text/plain": [
       "<Figure size 432x288 with 1 Axes>"
      ]
     },
     "metadata": {
      "needs_background": "light"
     },
     "output_type": "display_data"
    }
   ],
   "source": [
    "points = np.array([[point.x,point.y] for _,point in canvas.points.items()])\n",
    "\n",
    "vor = Voronoi(points)\n",
    "\n",
    "voronoi_plot_2d(vor)\n",
    "plt.show()"
   ]
  },
  {
   "cell_type": "markdown",
   "metadata": {},
   "source": [
    "# To Do\n",
    "\n",
    "* Use lloyd relaxation on points\n",
    "* Create polgons from Voronoi algorithm\n",
    "* Create classes for lines\n",
    "* With collection of lines per polygon can use shapely to find centroid"
   ]
  }
 ],
 "metadata": {
  "kernelspec": {
   "display_name": "Python 3",
   "language": "python",
   "name": "python3"
  }
 },
 "nbformat": 4,
 "nbformat_minor": 2
}
